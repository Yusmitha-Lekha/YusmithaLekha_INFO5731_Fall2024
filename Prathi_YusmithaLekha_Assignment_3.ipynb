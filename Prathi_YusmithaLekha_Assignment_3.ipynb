{
  "cells": [
    {
      "cell_type": "markdown",
      "metadata": {
        "id": "view-in-github",
        "colab_type": "text"
      },
      "source": [
        "<a href=\"https://colab.research.google.com/github/Yusmitha-Lekha/YusmithaLekha_INFO5731_Fall2024/blob/main/Prathi_YusmithaLekha_Assignment_3.ipynb\" target=\"_parent\"><img src=\"https://colab.research.google.com/assets/colab-badge.svg\" alt=\"Open In Colab\"/></a>"
      ]
    },
    {
      "cell_type": "markdown",
      "metadata": {
        "id": "Ryk8D1Q4Wsrp"
      },
      "source": [
        "# **INFO5731 Assignment 3**\n",
        "\n",
        "In this assignment, we will delve into various aspects of natural language processing (NLP) and text analysis. The tasks are designed to deepen your understanding of key NLP concepts and techniques, as well as to provide hands-on experience with practical applications.\n",
        "\n",
        "Through these tasks, you'll gain practical experience in NLP techniques such as N-gram analysis, TF-IDF, word embedding model creation, and sentiment analysis dataset creation.\n",
        "\n",
        "**Expectations**:\n",
        "*   Use the provided .*ipynb* document to write your code & respond to the questions. Avoid generating a new file.\n",
        "*   Write complete answers and run all the cells before submission.\n",
        "*   Make sure the submission is \"clean\"; *i.e.*, no unnecessary code cells.\n",
        "*   Once finished, allow shared rights from top right corner (*see Canvas for details*).\n",
        "\n",
        "\n",
        "**Total points**: 100\n",
        "\n",
        "**Deadline**: See Canvas\n",
        "\n",
        "**Late Submission will have a penalty of 10% reduction for each day after the deadline.**\n"
      ]
    },
    {
      "cell_type": "markdown",
      "metadata": {
        "id": "JkzR8cFAyGik"
      },
      "source": [
        "## Question 1 (30 points)\n",
        "\n",
        "**Understand N-gram**\n",
        "\n",
        "Write a python program to conduct N-gram analysis based on the dataset in your assignment two. You need to write codes from scratch instead of using any pre-existing libraries to do so:\n",
        "\n",
        "(1) Count the frequency of all the N-grams (N=3).\n",
        "\n",
        "(2) Calculate the probabilities for all the bigrams in the dataset by using the fomular count(w2 w1) / count(w2). For example, count(really like) / count(really) = 1 / 3 = 0.33.\n",
        "\n",
        "(3) Extract all the noun phrases and calculate the relative probabilities of each review in terms of other reviews (abstracts, or tweets) by using the fomular frequency (noun phrase) / max frequency (noun phrase) on the whole dataset. Print out the result in a table with column name the all the noun phrases and row name as all the 100 reviews (abstracts, or tweets)."
      ]
    },
    {
      "cell_type": "code",
      "source": [
        "import pandas as pd\n",
        "import re\n",
        "from collections import defaultdict\n",
        "import os\n",
        "\n",
        "# Define the path to the review dataset\n",
        "file_path = 'Imdb_Reviews (2).csv'\n",
        "\n",
        "# Ensure the file exists and has content\n",
        "if not os.path.exists(file_path):\n",
        "    raise FileNotFoundError(f\"The file '{file_path}' was not found.\")\n",
        "elif os.path.getsize(file_path) == 0:\n",
        "    raise ValueError(f\"The file '{file_path}' is empty.\")\n",
        "\n",
        "# Attempt to read the dataset one row at a time\n",
        "try:\n",
        "    reviews_df = pd.read_csv(file_path, chunksize=1)\n",
        "except pd.errors.EmptyDataError:\n",
        "    raise ValueError(\"No data could be parsed from the file.\")\n",
        "\n",
        "# Helper function to break down text into individual words\n",
        "def tokenize(text):\n",
        "    return re.findall(r'\\b\\w+\\b', text.lower())\n",
        "\n",
        "# Generate N-grams for text, with N=3 for trigrams\n",
        "def generate_ngrams(text, n=3):\n",
        "    words = tokenize(text)\n",
        "    ngrams = zip(*[words[i:] for i in range(n)])\n",
        "    return [\" \".join(ngram) for ngram in ngrams]\n",
        "\n",
        "# Set up counters for different types of text data\n",
        "trigram_counter = defaultdict(int)\n",
        "bigram_counter = defaultdict(int)\n",
        "unigram_counter = defaultdict(int)\n",
        "review_noun_phrases = []\n",
        "noun_phrase_counter = defaultdict(int)\n",
        "\n",
        "# Analyze each review in the dataset\n",
        "for chunk in reviews_df:  # Process one review at a time\n",
        "    review_text = chunk.iloc[0]['Review']\n",
        "\n",
        "    # Count the frequency of trigrams\n",
        "    trigrams = generate_ngrams(review_text, n=3)\n",
        "    for trigram in trigrams:\n",
        "        trigram_counter[trigram] += 1\n",
        "\n",
        "    # Count the frequency of bigrams and unigrams\n",
        "    words = tokenize(review_text)\n",
        "    bigrams = [\" \".join([words[i], words[i + 1]]) for i in range(len(words) - 1)]\n",
        "    for word in words:\n",
        "        unigram_counter[word] += 1\n",
        "    for bigram in bigrams:\n",
        "        bigram_counter[bigram] += 1\n",
        "\n",
        "    # Extract noun phrases\n",
        "    def extract_noun_phrases(text):\n",
        "        words = tokenize(text)\n",
        "        noun_phrases = []\n",
        "        i = 0\n",
        "        while i < len(words) - 1:\n",
        "            if words[i].isalpha() and words[i + 1].isalpha():\n",
        "                noun_phrases.append(f\"{words[i]} {words[i + 1]}\")\n",
        "                i += 1\n",
        "            i += 1\n",
        "        return noun_phrases\n",
        "\n",
        "    noun_phrases = extract_noun_phrases(review_text)\n",
        "    review_noun_phrases.append({np: noun_phrases.count(np) for np in noun_phrases})\n",
        "    for np in noun_phrases:\n",
        "        noun_phrase_counter[np] += 1\n",
        "\n",
        "# Sort and display the most frequent trigrams\n",
        "top_trigrams = sorted(trigram_counter.items(), key=lambda x: x[1], reverse=True)[:5]\n",
        "print(\"Top Trigrams:\", top_trigrams)\n",
        "\n",
        "# Calculate probabilities for each bigram\n",
        "bigram_probabilities = {}\n",
        "for bigram, count in bigram_counter.items():\n",
        "    w2 = bigram.split()[0]\n",
        "    prob = count / unigram_counter[w2]\n",
        "    bigram_probabilities[bigram] = prob\n",
        "\n",
        "top_bigram_probs = sorted(bigram_probabilities.items(), key=lambda x: x[1], reverse=True)[:5]\n",
        "print(\"Top Bigram Probabilities:\", top_bigram_probs)\n",
        "\n",
        "# Compute relative frequencies for noun phrases\n",
        "max_noun_phrase_freq = max(noun_phrase_counter.values())\n",
        "relative_probabilities = []\n",
        "\n",
        "for i, review_phrases in enumerate(review_noun_phrases):\n",
        "    row = {\"Review\": f\"Review {i+1}\"}\n",
        "    for noun_phrase, count in review_phrases.items():\n",
        "        relative_prob = count / max_noun_phrase_freq\n",
        "        row[noun_phrase] = relative_prob\n",
        "    relative_probabilities.append(row)\n",
        "\n",
        "# Create a DataFrame to store and display the relative noun phrase probabilities for the first 100 reviews\n",
        "relative_prob_df = pd.DataFrame(relative_probabilities).fillna(0)\n",
        "print(\"Relative Probabilities Table (First 100 Rows):\\n\", relative_prob_df.head(100))\n"
      ],
      "metadata": {
        "colab": {
          "base_uri": "https://localhost:8080/"
        },
        "id": "AQZiGG_rSy3W",
        "outputId": "73ed2536-9fb8-4524-c668-b3a84fe8987c"
      },
      "execution_count": 16,
      "outputs": [
        {
          "output_type": "stream",
          "name": "stdout",
          "text": [
            "Top Trigrams: [('dune part two', 297), ('one of the', 217), ('dune part 2', 186), ('it s a', 153), ('part two is', 139)]\n",
            "Top Bigram Probabilities: [('interpreted the', 1.0), ('technologies of', 1.0), ('overbearing at', 1.0), ('sentiments about', 1.0), ('slows down', 1.0)]\n",
            "Relative Probabilities Table (First 100 Rows):\n",
            "         Review   this is  what hollywood   needs a  great story    with a  \\\n",
            "0     Review 1  0.001086        0.001086  0.001086     0.001086  0.001086   \n",
            "1     Review 2  0.001086        0.000000  0.000000     0.000000  0.000000   \n",
            "2     Review 3  0.001086        0.000000  0.000000     0.000000  0.000000   \n",
            "3     Review 4  0.000000        0.000000  0.000000     0.000000  0.000000   \n",
            "4     Review 5  0.001086        0.000000  0.000000     0.000000  0.000000   \n",
            "..         ...       ...             ...       ...          ...       ...   \n",
            "95   Review 96  0.000000        0.000000  0.000000     0.000000  0.000000   \n",
            "96   Review 97  0.000000        0.000000  0.000000     0.000000  0.000000   \n",
            "97   Review 98  0.000000        0.000000  0.000000     0.000000  0.000000   \n",
            "98   Review 99  0.000000        0.000000  0.000000     0.000000  0.000000   \n",
            "99  Review 100  0.001086        0.000000  0.000000     0.000000  0.000000   \n",
            "\n",
            "    great director  producer after  that the  best thing  ...  and hollywood  \\\n",
            "0         0.001086        0.001086  0.001086    0.001086  ...            0.0   \n",
            "1         0.000000        0.000000  0.002172    0.000000  ...            0.0   \n",
            "2         0.000000        0.000000  0.000000    0.000000  ...            0.0   \n",
            "3         0.000000        0.000000  0.000000    0.000000  ...            0.0   \n",
            "4         0.000000        0.000000  0.000000    0.000000  ...            0.0   \n",
            "..             ...             ...       ...         ...  ...            ...   \n",
            "95        0.000000        0.000000  0.000000    0.000000  ...            0.0   \n",
            "96        0.000000        0.000000  0.000000    0.000000  ...            0.0   \n",
            "97        0.000000        0.000000  0.000000    0.000000  ...            0.0   \n",
            "98        0.000000        0.000000  0.000000    0.000000  ...            0.0   \n",
            "99        0.000000        0.000000  0.000000    0.000000  ...            0.0   \n",
            "\n",
            "    s future  biggest and  of new  characters can  actress have  done justice  \\\n",
            "0        0.0          0.0     0.0             0.0           0.0           0.0   \n",
            "1        0.0          0.0     0.0             0.0           0.0           0.0   \n",
            "2        0.0          0.0     0.0             0.0           0.0           0.0   \n",
            "3        0.0          0.0     0.0             0.0           0.0           0.0   \n",
            "4        0.0          0.0     0.0             0.0           0.0           0.0   \n",
            "..       ...          ...     ...             ...           ...           ...   \n",
            "95       0.0          0.0     0.0             0.0           0.0           0.0   \n",
            "96       0.0          0.0     0.0             0.0           0.0           0.0   \n",
            "97       0.0          0.0     0.0             0.0           0.0           0.0   \n",
            "98       0.0          0.0     0.0             0.0           0.0           0.0   \n",
            "99       0.0          0.0     0.0             0.0           0.0           0.0   \n",
            "\n",
            "    roles with  is excellenta  movie goer  \n",
            "0          0.0            0.0         0.0  \n",
            "1          0.0            0.0         0.0  \n",
            "2          0.0            0.0         0.0  \n",
            "3          0.0            0.0         0.0  \n",
            "4          0.0            0.0         0.0  \n",
            "..         ...            ...         ...  \n",
            "95         0.0            0.0         0.0  \n",
            "96         0.0            0.0         0.0  \n",
            "97         0.0            0.0         0.0  \n",
            "98         0.0            0.0         0.0  \n",
            "99         0.0            0.0         0.0  \n",
            "\n",
            "[100 rows x 52311 columns]\n"
          ]
        }
      ]
    },
    {
      "cell_type": "markdown",
      "metadata": {
        "id": "90_NR8c5XGWc"
      },
      "source": [
        "## Question 2 (25 points)\n",
        "\n",
        "**Undersand TF-IDF and Document representation**\n",
        "\n",
        "Starting from the documents (all the reviews, or abstracts, or tweets) collected for assignment two, write a python program:\n",
        "\n",
        "(1) To build the documents-terms weights (tf * idf) matrix.\n",
        "\n",
        "(2) To rank the documents with respect to query (design a query by yourself, for example, \"An Outstanding movie with a haunting performance and best character development\") by using cosine similarity.\n",
        "\n",
        "Note: You need to write codes from scratch instead of using any pre-existing libraries to do so."
      ]
    },
    {
      "cell_type": "code",
      "execution_count": 17,
      "metadata": {
        "id": "LjN0iysvo9-n",
        "colab": {
          "base_uri": "https://localhost:8080/"
        },
        "outputId": "76f543af-d7d5-4dbc-8579-b4e20b035b13"
      },
      "outputs": [
        {
          "output_type": "stream",
          "name": "stdout",
          "text": [
            "Top Ranked Documents:\n",
            "Document 274 (Score: 0.14059327954710074): Dune Part Two is an outstanding sequel that greatly outshines Dune Part One in every single way. This film is definitely made to be seen in the cinema as the outstanding visuals translate amazingly onto the big screen. The music of this film is absolutely amazing and in my opinion it's one of the best soundtracks ever made. The story is gripping as it is fascinating and fantastic to see the rise of Paul Atreides . This film series seems to definitely be the Lord Of The Rings of the 2020s and it will be praised for generations. Overall a perfect film that I hope will preform well in awards season.\n",
            "Document 480 (Score: 0.1275841257859177): I actually enjoyed Part I more than this. One hour in, I had to check the time. There's only so much time that can be spent on explaining that Charlamee is the savior.The bright spot was definitely Javier Bardem, great performance for an otherwise banal cast of actors. Don't get me wrong, the visuals were outstanding, and the story had its moments, but overall it was frankly boring.This was a big disappointment because it got off to a really good start and in the first hour, the editing and immersion was on point. But once they entered Austin Butler's character, it fell apart.Cringeworthy character development and cliched storytelling at its finest, but I'm sure younger people and newbie sci-fi fans will love it. This is no masterpiece, not even close. Part I was actually better overall.4/10.\n",
            "Document 592 (Score: 0.1252935641974898): Dune Part 2 delivers the best sequel experience ever. Every aspect, from acting to story to music, is simply outstanding. While I'm a huge fan of Timothée, Austin's performance here is equally extraordinary. The storytelling is exquisite, immersing me visually more than Dune Part 1 ever did. As always, there are no words for Hans Zimmer's music. I've never paid this much attention to a movie before. Denis Villeneuve has truly outdone himself with this film, making it his best work yet. The casting is impeccable, leaving me eager for more. Thank you to everyone involved in creating this masterpiece. I eagerly anticipate Part 3.\n",
            "Document 880 (Score: 0.12301645670224143): I think we are really lucky to be living in a time where we can witness such a greatness of a movie. This was a masterpiece, everything was incredible, the cinematography, the dialogue, this story with Paul and the fremen, arrakis, the acting was outstanding and for me it's a oscar worthy performance from Thimothée Chalamet. For me it's the best movie of the decade, if not the best movie of all time!!! The score is incredible, every sound effect makes the movie epic, and the score for me is one of the things that makes this movie so good aswell. If you like a world where they have their on language, where actors give it their all with a touching and epic story with loads of action and good dialogue, go watch it please!!\n",
            "Document 346 (Score: 0.12278262948471064): Dune: Part Two\" emerges as a contemporary cinematic masterpiece, echoing the epic scale and impact of the Lord of the Rings trilogy for our generation. Denis Villeneuve's directorial prowess shines through in every frame, orchestrating a visual spectacle that transcends its predecessor. The expansive landscapes of Arrakis, meticulously crafted through a blend of practical effects and CGI, draw audiences into a mesmerizing and authentic world.The ensemble cast, led by the compelling Timoth√©e Chalamet reprising his role as Paul Atreides, delivers performances that breathe life into the rich characters populating Frank Herbert's universe. Although it's very clear that this movie is Timoth√©e and Zendayas show.Hans Zimmer's musical composition elevates the film to new heights. His score, a symphony of haunting melodies and tribal beats, seamlessly integrates with the narrative, intensifying the emotional resonance of pivotal moments. Zimmer's contribution becomes an integral part of the Dune experience, leaving a lasting impression.In exceeding expectations, \"Dune: Part Two\" solidifies its place as a cinematic tour de force. It sets a new standard for the sci-fi genre, offering a timeless and unforgettable experience. Denis Villeneuve's vision, coupled with impeccable visuals, a stellar cast, and a haunting musical score, ensures that \"Dune: Part Two\" will be celebrated as a monumental achievement in filmmaking, leaving an indelible mark on the cinematic landscape of our era.\n"
          ]
        }
      ],
      "source": [
        "import pandas as pd\n",
        "import re\n",
        "import math\n",
        "from collections import defaultdict\n",
        "\n",
        "# Load the dataset and handle any potential issues with file access\n",
        "file_path = 'Imdb_Reviews (2).csv'\n",
        "try:\n",
        "    reviews_df = pd.read_csv(file_path)\n",
        "except FileNotFoundError:\n",
        "    raise FileNotFoundError(\"The specified file was not found.\")\n",
        "except pd.errors.EmptyDataError:\n",
        "    raise ValueError(\"The file is empty or improperly formatted.\")\n",
        "\n",
        "# Function to break down text into individual lowercase words\n",
        "def tokenize(text):\n",
        "    return re.findall(r'\\b\\w+\\b', text.lower())\n",
        "\n",
        "# 1. Calculate Term Frequency (TF) for each document\n",
        "# TF measures the frequency of each word within a document\n",
        "def calculate_tf(documents):\n",
        "    tf_values = []\n",
        "    for doc in documents:\n",
        "        words = tokenize(doc)\n",
        "        word_count = len(words)\n",
        "        tf = defaultdict(float)\n",
        "        for word in words:\n",
        "            tf[word] += 1 / word_count  # Normalized frequency per word in document\n",
        "        tf_values.append(tf)\n",
        "    return tf_values\n",
        "\n",
        "# 2. Calculate Document Frequency (DF) and Inverse Document Frequency (IDF)\n",
        "# DF counts documents containing each word, and IDF measures the importance of each word across all documents\n",
        "def calculate_idf(documents):\n",
        "    df = defaultdict(int)\n",
        "    for doc in documents:\n",
        "        unique_words = set(tokenize(doc))\n",
        "        for word in unique_words:\n",
        "            df[word] += 1\n",
        "\n",
        "    N = len(documents)  # Total number of documents\n",
        "    idf = {word: math.log(N / df_count) for word, df_count in df.items()}\n",
        "    return idf\n",
        "\n",
        "# 3. Construct the TF-IDF Matrix\n",
        "# TF-IDF matrix combines TF and IDF scores for each word in each document\n",
        "def build_tf_idf_matrix(tf_values, idf):\n",
        "    tf_idf_matrix = []\n",
        "    for tf in tf_values:\n",
        "        tf_idf = {word: tf[word] * idf[word] for word in tf}\n",
        "        tf_idf_matrix.append(tf_idf)\n",
        "    return tf_idf_matrix\n",
        "\n",
        "# Extract documents from the dataset\n",
        "documents = reviews_df['Review'].tolist()\n",
        "tf_values = calculate_tf(documents)\n",
        "idf = calculate_idf(documents)\n",
        "tf_idf_matrix = build_tf_idf_matrix(tf_values, idf)\n",
        "\n",
        "# 4. Prepare TF-IDF vector for the query\n",
        "query = \"An Outstanding movie with a haunting performance and best character development\"\n",
        "query_terms = tokenize(query)\n",
        "query_tf = defaultdict(float)\n",
        "for term in query_terms:\n",
        "    query_tf[term] += 1 / len(query_terms)\n",
        "\n",
        "query_tf_idf = {term: query_tf[term] * idf.get(term, 0) for term in query_tf}\n",
        "\n",
        "# 5. Define Cosine Similarity Function to Measure Document-Query Similarity\n",
        "def cosine_similarity(doc_vector, query_vector):\n",
        "    # Dot product between document and query vectors\n",
        "    dot_product = sum(doc_vector.get(term, 0) * query_vector.get(term, 0) for term in query_vector)\n",
        "    # Magnitude calculation for each vector\n",
        "    doc_magnitude = math.sqrt(sum(weight ** 2 for weight in doc_vector.values()))\n",
        "    query_magnitude = math.sqrt(sum(weight ** 2 for weight in query_vector.values()))\n",
        "    if doc_magnitude == 0 or query_magnitude == 0:\n",
        "        return 0\n",
        "    return dot_product / (doc_magnitude * query_magnitude)\n",
        "\n",
        "# Rank documents based on similarity scores with the query\n",
        "document_scores = [(i, cosine_similarity(tf_idf_matrix[i], query_tf_idf)) for i in range(len(tf_idf_matrix))]\n",
        "document_scores = sorted(document_scores, key=lambda x: x[1], reverse=True)\n",
        "\n",
        "# Display the top-ranked documents\n",
        "print(\"Top Ranked Documents:\")\n",
        "for doc_index, score in document_scores[:5]:\n",
        "    print(f\"Document {doc_index + 1} (Score: {score}): {documents[doc_index]}\")\n"
      ]
    },
    {
      "cell_type": "markdown",
      "metadata": {
        "id": "1F_PZdH9Sh49"
      },
      "source": [
        "## Question 3 (25 points)\n",
        "\n",
        "**Create your own word embedding model**\n",
        "\n",
        "Use the data you collected for assignment 2 to build a word embedding model:\n",
        "\n",
        "(1) Train a 300-dimension word embedding (it can be word2vec, glove, ulmfit, bert, or others).\n",
        "\n",
        "(2) Visualize the word embedding model you created.\n",
        "\n",
        "Reference: https://machinelearningmastery.com/develop-word-embeddings-python-gensim/\n",
        "\n",
        "Reference: https://jaketae.github.io/study/word2vec/"
      ]
    },
    {
      "cell_type": "code",
      "execution_count": 18,
      "metadata": {
        "id": "eczZgyAoo05Q",
        "colab": {
          "base_uri": "https://localhost:8080/",
          "height": 718
        },
        "outputId": "c950bdb1-d394-4992-c66f-015c16c9d35d"
      },
      "outputs": [
        {
          "output_type": "display_data",
          "data": {
            "text/plain": [
              "<Figure size 1200x800 with 1 Axes>"
            ],
            "image/png": "[encoded data removed]"
          },
          "metadata": {}
        }
      ],
      "source": [
        "import pandas as pd\n",
        "import gensim\n",
        "from gensim.models import Word2Vec\n",
        "import re\n",
        "import os\n",
        "\n",
        "# Specify the path to the dataset and attempt to load it\n",
        "file_path = 'Imdb_Reviews (2).csv'\n",
        "try:\n",
        "    reviews_df = pd.read_csv(file_path)\n",
        "except FileNotFoundError:\n",
        "    raise FileNotFoundError(\"The specified file was not found.\")\n",
        "except pd.errors.EmptyDataError:\n",
        "    raise ValueError(\"The file is empty or incorrectly formatted.\")\n",
        "\n",
        "# Function to preprocess text by lowercasing and tokenizing words\n",
        "def preprocess(text):\n",
        "    return re.findall(r'\\b\\w+\\b', text.lower())\n",
        "\n",
        "# Tokenize each review and prepare document list\n",
        "documents = [preprocess(review) for review in reviews_df['Review'].tolist()]\n",
        "\n",
        "# Define path for saving/loading the model\n",
        "model_path = \"word2vec_300d.model\"\n",
        "\n",
        "# Check if the model already exists; if not, train and save it\n",
        "if os.path.exists(model_path):\n",
        "    word2vec_model = Word2Vec.load(model_path)\n",
        "else:\n",
        "    embedding_dim = 300  # Dimension of word vectors\n",
        "    word2vec_model = Word2Vec(sentences=documents, vector_size=embedding_dim, window=5, min_count=2, workers=4)\n",
        "    word2vec_model.save(model_path)  # Save the newly trained model\n",
        "\n",
        "# Import visualization libraries\n",
        "import matplotlib.pyplot as plt\n",
        "from sklearn.decomposition import PCA\n",
        "\n",
        "# Retrieve words and their vectors for visualization\n",
        "words = list(word2vec_model.wv.index_to_key)\n",
        "word_vectors = word2vec_model.wv[words]\n",
        "\n",
        "# Reduce word vector dimensions to 2D for plotting\n",
        "pca = PCA(n_components=2)\n",
        "reduced_vectors = pca.fit_transform(word_vectors)\n",
        "\n",
        "# Plot the word embeddings, limiting to a subset of words for readability\n",
        "plt.figure(figsize=(12, 8))\n",
        "num_words_to_plot = 50  # Number of words to display\n",
        "for i in range(num_words_to_plot):\n",
        "    plt.scatter(reduced_vectors[i, 0], reduced_vectors[i, 1])\n",
        "    plt.annotate(words[i], (reduced_vectors[i, 0], reduced_vectors[i, 1]))\n",
        "\n",
        "plt.title(\"Word Embedding Visualization with PCA\")\n",
        "plt.xlabel(\"PCA Component 1\")\n",
        "plt.ylabel(\"PCA Component 2\")\n",
        "plt.show()\n"
      ]
    },
    {
      "cell_type": "markdown",
      "metadata": {
        "id": "DDoVp3aYoU8F"
      },
      "source": [
        "## Question 4 (20 Points)\n",
        "\n",
        "**Create your own training and evaluation data for sentiment analysis.**\n",
        "\n",
        " **You don't need to write program for this question!**\n",
        "\n",
        " For example, if you collected a movie review or a product review data, then you can do the following steps:\n",
        "\n",
        "*   Read each review (abstract or tweet) you collected in detail, and annotate each review with a sentiment (positive, negative, or neutral).\n",
        "\n",
        "*   Save the annotated dataset into a csv file with three columns (first column: document_id, clean_text, sentiment), upload the csv file to GitHub and submit the file link blew.\n",
        "\n",
        "*   This datset will be used for assignment four: sentiment analysis and text classification.\n"
      ]
    },
    {
      "cell_type": "code",
      "execution_count": null,
      "metadata": {
        "id": "DyK54UY6ompS"
      },
      "outputs": [],
      "source": [
        "# The GitHub link of your final csv file\n",
        "# https://github.com/Yusmitha-Lekha/YusmithaLekha_INFO5731_Fall2024/blob/main/sentiment_annotated_reviews.csv\n",
        "\n",
        "\n"
      ]
    },
    {
      "cell_type": "markdown",
      "metadata": {
        "id": "q8BFCvWp32cf"
      },
      "source": [
        "# Mandatory Question\n",
        "\n",
        "Provide your thoughts on the assignment. What did you find challenging, and what aspects did you enjoy? Your opinion on the provided time to complete the assignment."
      ]
    },
    {
      "cell_type": "code",
      "execution_count": 15,
      "metadata": {
        "id": "sNXlsbrirHRo",
        "colab": {
          "base_uri": "https://localhost:8080/",
          "height": 140
        },
        "outputId": "8ef46ae6-a40a-4ef9-bd81-f9eaeb717033"
      },
      "outputs": [
        {
          "output_type": "execute_result",
          "data": {
            "text/plain": [
              "'\\nThis assignment was both challenging and rewarding. One of the most challenging aspects was working from scratch to implement the text analysis tasks, such as TF-IDF computation and N-gram analysis, without relying on pre-existing libraries. It required a deeper understanding of the concepts and a careful approach to code each step manually. However, this process allowed me to grasp the underlying mechanics of text processing, which I found extremely valuable.\\n\\nAnnotating the sentiment data was time-consuming but insightful. Reading each review closely to label sentiment helped me better understand the nuances of text classification, though it required patience and focus. I enjoyed the visualization part of the assignment, as it was satisfying to see the patterns in word embeddings and to understand how text data could be represented in a spatial format.\\n\\nIn terms of the time provided, I feel that it was mostly adequate, though the manual annotation process could benefit from a slightly longer time frame. Overall, the assignment provided a solid hands-on experience, helping me build foundational skills in natural language processing and data analysis.'"
            ],
            "application/vnd.google.colaboratory.intrinsic+json": {
              "type": "string"
            }
          },
          "metadata": {},
          "execution_count": 15
        }
      ],
      "source": [
        "\"\"\"\n",
        "This assignment was both challenging and rewarding. One of the most challenging aspects was working from scratch to implement the text analysis tasks, such as TF-IDF computation and N-gram analysis, without relying on pre-existing libraries. It required a deeper understanding of the concepts and a careful approach to code each step manually. However, this process allowed me to grasp the underlying mechanics of text processing, which I found extremely valuable.\n",
        "\n",
        "Annotating the sentiment data was time-consuming but insightful. Reading each review closely to label sentiment helped me better understand the nuances of text classification, though it required patience and focus. I enjoyed the visualization part of the assignment, as it was satisfying to see the patterns in word embeddings and to understand how text data could be represented in a spatial format.\n",
        "\n",
        "In terms of the time provided, I feel that it was mostly adequate, though the manual annotation process could benefit from a slightly longer time frame. Overall, the assignment provided a solid hands-on experience, helping me build foundational skills in natural language processing and data analysis.\"\"\""
      ]
    }
  ],
  "metadata": {
    "colab": {
      "provenance": [],
      "include_colab_link": true
    },
    "kernelspec": {
      "display_name": "Python 3 (ipykernel)",
      "language": "python",
      "name": "python3"
    },
    "language_info": {
      "codemirror_mode": {
        "name": "ipython",
        "version": 3
      },
      "file_extension": ".py",
      "mimetype": "text/x-python",
      "name": "python",
      "nbconvert_exporter": "python",
      "pygments_lexer": "ipython3",
      "version": "3.9.12"
    }
  },
  "nbformat": 4,
  "nbformat_minor": 0
}